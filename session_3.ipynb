{
 "cells": [
  {
   "cell_type": "markdown",
   "id": "1dea1155-4b1f-4c6e-92f6-f07187bc9d52",
   "metadata": {},
   "source": [
    "## Exercise\n",
    "Let's practice some list comprehension. These tasks were taken from [here](https://gist.github.com/ryanorsinger/f7d7c1dd6a328730c04f3dc5c5c69f3a) (go and give him a star ;))."
   ]
  },
  {
   "cell_type": "code",
   "execution_count": 3,
   "id": "a1f24c71-51a4-45b8-ac01-057273309906",
   "metadata": {},
   "outputs": [],
   "source": [
    "# 17 list comprehension problems in python\n",
    "\n",
    "fruits = ['mango', 'kiwi', 'strawberry', 'guava', 'pineapple', 'mandarin orange']\n",
    "\n",
    "numbers = [2, 3, 4, 5, 6, 7, 8, 9, 10, 11, 13, 17, 19, 23, 256, -8, -4, -2, 5, -9]\n",
    "\n",
    "# Example for loop solution to add 1 to each number in the list\n",
    "numbers_plus_one = []\n",
    "for number in numbers:\n",
    "    numbers_plus_one.append(number + 1)\n",
    "\n",
    "# Example of using a list comprehension to create a list of the numbers plus one.\n",
    "numbers_plus_one = [number + 1 for number in numbers]\n",
    "\n",
    "# Example code that creates a list of all of the list of strings in fruits and uppercases every string\n",
    "output = []\n",
    "for fruit in fruits:\n",
    "    output.append(fruit.upper())"
   ]
  },
  {
   "cell_type": "markdown",
   "id": "0f7aa339-29a3-441d-91c2-e67cdcb2e0a6",
   "metadata": {},
   "source": [
    "### Exercise 1\n",
    "rewrite the above example code using list comprehension syntax. Make a variable named uppercased_fruits to hold the output of the list comprehension. Output should be ['MANGO', 'KIWI', etc...]"
   ]
  },
  {
   "cell_type": "code",
   "execution_count": 5,
   "id": "16bc0193-8674-4fd7-ab5f-35bcc232814e",
   "metadata": {},
   "outputs": [
    {
     "data": {
      "text/plain": [
       "['MANGO', 'KIWI', 'STRAWBERRY', 'GUAVA', 'PINEAPPLE', 'MANDARIN ORANGE']"
      ]
     },
     "execution_count": 5,
     "metadata": {},
     "output_type": "execute_result"
    }
   ],
   "source": [
    "uppercased_fruits = [fruit.upper() for fruit in fruits]\n",
    "uppercased_fruits"
   ]
  },
  {
   "cell_type": "markdown",
   "id": "0108337e-8f85-47ed-bf30-bc792f2dc76e",
   "metadata": {},
   "source": [
    "### Exercise 2\n",
    "create a variable named capitalized_fruits and use list comprehension syntax to produce output like ['Mango', 'Kiwi', 'Strawberry', etc...]"
   ]
  },
  {
   "cell_type": "code",
   "execution_count": 7,
   "id": "bd953516-3566-44d4-9608-fd892d942f5b",
   "metadata": {},
   "outputs": [
    {
     "data": {
      "text/plain": [
       "['Mango', 'Kiwi', 'Strawberry', 'Guava', 'Pineapple', 'Mandarin Orange']"
      ]
     },
     "execution_count": 7,
     "metadata": {},
     "output_type": "execute_result"
    }
   ],
   "source": [
    "capitalized_fruits = [fruit.title() for fruit in fruits]\n",
    "capitalized_fruits"
   ]
  },
  {
   "cell_type": "markdown",
   "id": "8a48f67a-b3cd-46e7-9af1-383dc96f53fa",
   "metadata": {},
   "source": [
    "### Exercise 3\n",
    "Use a list comprehension to make a variable named fruits_with_more_than_two_vowels. Hint: You'll need a way to check if something is a vowel."
   ]
  },
  {
   "cell_type": "code",
   "execution_count": 9,
   "id": "24b69917-61cb-499e-b4c1-cffa9299dca2",
   "metadata": {},
   "outputs": [
    {
     "data": {
      "text/plain": [
       "['guava', 'pineapple', 'mandarin orange']"
      ]
     },
     "execution_count": 9,
     "metadata": {},
     "output_type": "execute_result"
    }
   ],
   "source": [
    "fruits_with_more_than_two_vowels = [fruit for fruit in fruits if sum(1 for char in fruit if char in 'aeiou') > 2]\n",
    "fruits_with_more_than_two_vowels"
   ]
  },
  {
   "cell_type": "markdown",
   "id": "d916498a-7ec1-4c9d-9767-4fdf4710c141",
   "metadata": {},
   "source": [
    "### Exercise 4\n",
    "make a variable named fruits_with_only_two_vowels. The result should be ['mango', 'kiwi', 'strawberry']"
   ]
  },
  {
   "cell_type": "code",
   "execution_count": 11,
   "id": "e19811d7-c26c-4426-bcee-7641018971e1",
   "metadata": {},
   "outputs": [
    {
     "data": {
      "text/plain": [
       "['mango', 'kiwi', 'strawberry']"
      ]
     },
     "execution_count": 11,
     "metadata": {},
     "output_type": "execute_result"
    }
   ],
   "source": [
    "fruits_with_only_two_vowels = [fruit for fruit in fruits if sum(1 for char in fruit if char in 'aeiou') == 2]\n",
    "fruits_with_only_two_vowels"
   ]
  },
  {
   "cell_type": "markdown",
   "id": "4274a659-bb33-4575-ac2f-e73e8b0a5ab6",
   "metadata": {},
   "source": [
    "### Exercise 5\n",
    "make a list that contains each fruit with more than 5 characters"
   ]
  },
  {
   "cell_type": "code",
   "execution_count": 18,
   "id": "5c55d93e-415a-4ff1-a83e-ff34e51476a5",
   "metadata": {},
   "outputs": [
    {
     "data": {
      "text/plain": [
       "['strawberry', 'pineapple', 'mandarin orange']"
      ]
     },
     "execution_count": 18,
     "metadata": {},
     "output_type": "execute_result"
    }
   ],
   "source": [
    "fruits_with_more_than_five = [fruit for fruit in fruits if sum(1 for char in fruit) > 5]\n",
    "fruits_with_more_than_five"
   ]
  },
  {
   "cell_type": "markdown",
   "id": "be09302a-c05c-412a-a02d-013e8ae2933a",
   "metadata": {},
   "source": [
    "### Exercise 6\n",
    "make a list that contains each fruit with exactly 5 characters"
   ]
  },
  {
   "cell_type": "code",
   "execution_count": 21,
   "id": "1ebdbb48-2bd6-49c6-8935-5d513a78f7c1",
   "metadata": {},
   "outputs": [
    {
     "data": {
      "text/plain": [
       "['mango', 'guava']"
      ]
     },
     "execution_count": 21,
     "metadata": {},
     "output_type": "execute_result"
    }
   ],
   "source": [
    "fruits_with_only_five = [fruit for fruit in fruits if sum(1 for char in fruit) == 5]\n",
    "fruits_with_only_five"
   ]
  },
  {
   "cell_type": "markdown",
   "id": "e69427dd-4775-4041-ac2c-95630fcb3d60",
   "metadata": {},
   "source": [
    "### Exercise 7\n",
    "Make a list that contains fruits that have less than 5 characters"
   ]
  },
  {
   "cell_type": "code",
   "execution_count": 24,
   "id": "b4407ed0-40e5-49ca-a827-d95b7607404f",
   "metadata": {},
   "outputs": [
    {
     "data": {
      "text/plain": [
       "['kiwi']"
      ]
     },
     "execution_count": 24,
     "metadata": {},
     "output_type": "execute_result"
    }
   ],
   "source": [
    "fruits_with_less_than_five = [fruit for fruit in fruits if sum(1 for char in fruit) < 5]\n",
    "fruits_with_less_than_five"
   ]
  },
  {
   "cell_type": "markdown",
   "id": "8b41f59d-6518-42e3-af01-fbe6fcd5aac2",
   "metadata": {},
   "source": [
    "### Exercise 8\n",
    "Make a list containing the number of characters in each fruit. Output would be [5, 4, 10, etc... ]"
   ]
  },
  {
   "cell_type": "code",
   "execution_count": 27,
   "id": "fdf339a8-f936-4182-b204-0afc2e8800d9",
   "metadata": {},
   "outputs": [
    {
     "data": {
      "text/plain": [
       "[5, 4, 10, 5, 9, 15]"
      ]
     },
     "execution_count": 27,
     "metadata": {},
     "output_type": "execute_result"
    }
   ],
   "source": [
    "char_num = [sum(1 for char in fruit) for fruit in fruits]\n",
    "char_num"
   ]
  },
  {
   "cell_type": "markdown",
   "id": "97583ad6-8c5c-4d86-962d-4e1ea20bc26b",
   "metadata": {},
   "source": [
    "### Exercise 9\n",
    "Make a variable named fruits_with_letter_a that contains a list of only the fruits that contain the letter \"a\""
   ]
  },
  {
   "cell_type": "code",
   "execution_count": 30,
   "id": "7f7e6b65-37bf-4b91-bf4b-28b4422ec570",
   "metadata": {},
   "outputs": [
    {
     "data": {
      "text/plain": [
       "{'guava', 'mandarin orange', 'mango', 'pineapple', 'strawberry'}"
      ]
     },
     "execution_count": 30,
     "metadata": {},
     "output_type": "execute_result"
    }
   ],
   "source": [
    "fruits_with_letter_a = set([fruit for fruit in fruits for char in fruit if char == 'a'])\n",
    "fruits_with_letter_a"
   ]
  },
  {
   "cell_type": "markdown",
   "id": "fa5a5f31-ac13-4563-85df-e6821225818c",
   "metadata": {},
   "source": [
    "### Exercise 10\n",
    "Make a variable named even_numbers that holds only the even numbers "
   ]
  },
  {
   "cell_type": "code",
   "execution_count": 33,
   "id": "7871476e-b90d-4977-a7fd-78a2501643e2",
   "metadata": {},
   "outputs": [
    {
     "data": {
      "text/plain": [
       "[2, 4, 6, 8, 10, 256, -8, -4, -2]"
      ]
     },
     "execution_count": 33,
     "metadata": {},
     "output_type": "execute_result"
    }
   ],
   "source": [
    "even_numbers = [num for num in numbers if num % 2 == 0]\n",
    "even_numbers"
   ]
  },
  {
   "cell_type": "markdown",
   "id": "09904dc4-4d68-400e-a5b4-3e0f88f6b938",
   "metadata": {},
   "source": [
    "### Exercise 11\n",
    "Make a variable named odd_numbers that holds only the odd numbers"
   ]
  },
  {
   "cell_type": "code",
   "execution_count": 36,
   "id": "c9996b4d-f191-46de-ad4c-ea2257df02ac",
   "metadata": {},
   "outputs": [
    {
     "data": {
      "text/plain": [
       "[3, 5, 7, 9, 11, 13, 17, 19, 23, 5, -9]"
      ]
     },
     "execution_count": 36,
     "metadata": {},
     "output_type": "execute_result"
    }
   ],
   "source": [
    "odd_numbers = [num for num in numbers if num % 2 == 1]\n",
    "odd_numbers"
   ]
  },
  {
   "cell_type": "markdown",
   "id": "886d6445-0e77-493c-9ff8-3416546b4d49",
   "metadata": {},
   "source": [
    "### Exercise 12\n",
    "Make a variable named positive_numbers that holds only the positive numbers"
   ]
  },
  {
   "cell_type": "code",
   "execution_count": 39,
   "id": "9478e1c9-0c0b-40d0-87c6-40ae43716840",
   "metadata": {},
   "outputs": [
    {
     "data": {
      "text/plain": [
       "[2, 3, 4, 5, 6, 7, 8, 9, 10, 11, 13, 17, 19, 23, 256, 5]"
      ]
     },
     "execution_count": 39,
     "metadata": {},
     "output_type": "execute_result"
    }
   ],
   "source": [
    "positive_numbers = [num for num in numbers if num >= 0]\n",
    "positive_numbers"
   ]
  },
  {
   "cell_type": "markdown",
   "id": "e7608432-edea-4bc5-9090-4ff2f17c1223",
   "metadata": {},
   "source": [
    "### Exercise 13\n",
    "Make a variable named negative_numbers that holds only the negative numbers"
   ]
  },
  {
   "cell_type": "code",
   "execution_count": 42,
   "id": "e985bfc8-25b0-46ed-bc77-b24c5d2b393b",
   "metadata": {},
   "outputs": [
    {
     "data": {
      "text/plain": [
       "[-8, -4, -2, -9]"
      ]
     },
     "execution_count": 42,
     "metadata": {},
     "output_type": "execute_result"
    }
   ],
   "source": [
    "negative_numbers = [num for num in numbers if num < 0]\n",
    "negative_numbers"
   ]
  },
  {
   "cell_type": "code",
   "execution_count": null,
   "id": "d7e6e3d5-fd7b-4aae-a2a8-c45feb4848a4",
   "metadata": {},
   "outputs": [],
   "source": []
  }
 ],
 "metadata": {
  "kernelspec": {
   "display_name": "Python [conda env:base] *",
   "language": "python",
   "name": "conda-base-py"
  },
  "language_info": {
   "codemirror_mode": {
    "name": "ipython",
    "version": 3
   },
   "file_extension": ".py",
   "mimetype": "text/x-python",
   "name": "python",
   "nbconvert_exporter": "python",
   "pygments_lexer": "ipython3",
   "version": "3.12.7"
  }
 },
 "nbformat": 4,
 "nbformat_minor": 5
}
