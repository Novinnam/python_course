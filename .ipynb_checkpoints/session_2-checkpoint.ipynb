{
 "cells": [
  {
   "cell_type": "markdown",
   "id": "804e7a5d-2290-423c-921f-2a40f30498d3",
   "metadata": {},
   "source": [
    "# Exercise:\n",
    "#### Your software receives a message with data of clients that, for an unknown reason, is not in the needed format.\n",
    "#### The messages look like:\n",
    "\n",
    "    https://database.com/user/augustom,AugUSto Martin, 23, Approved,,\n",
    "    https://database.com/user/juliasch,JuLIA SchmidT, 67, rejected,,\n",
    "    https://database.com/user/kmarx,Karl Marx, 42, rejected,,\n",
    "\n",
    "#### However, your software needs to process messages like this:\n",
    "\n",
    "    message:  augustom,augustomartin,23,approved\n",
    "    message:  juliasch,juliaschmidt,67,rejected\n",
    "    message:  kmarx,karlmarx,42,rejected\n",
    "\n",
    "#### __Task__: Use `str` methods to correct the original message so you ALWAYS have messages compatible with your software.\n",
    "#### You explore the list of methods available in in `str` class [here](https://docs.python.org/3/library/stdtypes.html#textseq)"
   ]
  },
  {
   "cell_type": "code",
   "execution_count": 1,
   "id": "dab3ebe1-baf5-48bb-a259-5354ef03ae72",
   "metadata": {},
   "outputs": [
    {
     "name": "stdout",
     "output_type": "stream",
     "text": [
      "augustom,AugUStoMartin,23,Approved\n",
      "juliasch,JuLIASchmidT,67,rejected\n",
      "kmarx,KarlMarx,42,rejected\n"
     ]
    }
   ],
   "source": [
    "messages = ['https://database.com/user/augustom,AugUSto Martin, 23, Approved,,',\n",
    "            'https://database.com/user/juliasch,JuLIA SchmidT, 67, rejected,,',\n",
    "            'https://database.com/user/kmarx,Karl Marx, 42, rejected,,']\n",
    "\n",
    "for message in messages:\n",
    "    output = message.removeprefix('https://database.com/user/').strip(',,').replace(\" \", \"\")\n",
    "    print(output)"
   ]
  },
  {
   "cell_type": "markdown",
   "id": "73440061-2cb2-4c56-ae5c-d3a3b9dbb62a",
   "metadata": {},
   "source": [
    "# Exercise:\n",
    "#### __Task__: Calculate the arclength of an angle\n",
    "#### Hint: Define an expression that will take the radius and angle as inputs\n",
    "#### __Expected result__:\n",
    "#### Diameter of circle: 9\n",
    "#### angle measure: 45\n",
    "#### Arc Length is:  3.5357142857142856"
   ]
  },
  {
   "cell_type": "code",
   "execution_count": 3,
   "id": "41ef1200-752b-422c-b3f5-edfefd77522a",
   "metadata": {},
   "outputs": [
    {
     "name": "stdin",
     "output_type": "stream",
     "text": [
      "please enter the diameter:  9\n",
      "please enter the arc angle:  45\n"
     ]
    },
    {
     "name": "stdout",
     "output_type": "stream",
     "text": [
      "The diameter and arc angle in order are 9mm and 45°, so the arc length is 3.53mm\n"
     ]
    }
   ],
   "source": [
    "import numpy as np\n",
    "dia_input = int(input('please enter the diameter: '))\n",
    "arc_input = int(input('please enter the arc angle: '))\n",
    "arc_length = 2 * np.pi * dia_input/2 * arc_input/360\n",
    "print(f'The diameter and arc angle in order are {dia_input}mm and {arc_input}°, so the arc length is {arc_length:.2f}mm')"
   ]
  }
 ],
 "metadata": {
  "kernelspec": {
   "display_name": "Python [conda env:base] *",
   "language": "python",
   "name": "conda-base-py"
  },
  "language_info": {
   "codemirror_mode": {
    "name": "ipython",
    "version": 3
   },
   "file_extension": ".py",
   "mimetype": "text/x-python",
   "name": "python",
   "nbconvert_exporter": "python",
   "pygments_lexer": "ipython3",
   "version": "3.12.7"
  }
 },
 "nbformat": 4,
 "nbformat_minor": 5
}
