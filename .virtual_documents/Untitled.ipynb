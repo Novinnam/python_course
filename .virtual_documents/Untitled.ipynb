


messages = ['https://database.com/user/augustom,AugUSto Martin, 23, Approved,,',
            'https://database.com/user/juliasch,JuLIA SchmidT, 67, rejected,,',
            'https://database.com/user/kmarx,Karl Marx, 42, rejected,,']

for message in messages:
    output = message.removeprefix('https://database.com/user/').strip(',,').replace(" ", "")
    print(output)





import numpy as np
dia_input = int(input('please enter the diameter: '))
arc_input = int(input('please enter the arc angle: '))
arc_length = 2 * np.pi * dia_input/2 * arc_input/360
print(f'The diameter and arc angle in order are {dia_input}mm and {arc_input}°, so the arc length is {arc_length:.2f}mm')
